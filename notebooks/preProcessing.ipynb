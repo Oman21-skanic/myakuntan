{
 "cells": [
  {
   "cell_type": "code",
   "execution_count": 1,
   "id": "77796b8c",
   "metadata": {},
   "outputs": [],
   "source": [
    "import pandas as pd\n",
    "import matplotlib.pyplot as plt\n",
    "import seaborn as sns\n",
    "from sklearn.preprocessing import OneHotEncoder\n",
    "from sklearn.cluster import KMeans\n",
    "from sklearn.metrics import silhouette_score\n",
    "from sklearn.compose import ColumnTransformer"
   ]
  },
  {
   "cell_type": "code",
   "execution_count": 2,
   "id": "91c7980b",
   "metadata": {},
   "outputs": [
    {
     "ename": "NameError",
     "evalue": "name 'cluster_range' is not defined",
     "output_type": "error",
     "traceback": [
      "\u001b[31m---------------------------------------------------------------------------\u001b[39m",
      "\u001b[31mNameError\u001b[39m                                 Traceback (most recent call last)",
      "\u001b[36mCell\u001b[39m\u001b[36m \u001b[39m\u001b[32mIn[2]\u001b[39m\u001b[32m, line 5\u001b[39m\n\u001b[32m      2\u001b[39m \u001b[38;5;28;01mfrom\u001b[39;00m\u001b[38;5;250m \u001b[39m\u001b[34;01msklearn\u001b[39;00m\u001b[34;01m.\u001b[39;00m\u001b[34;01mpreprocessing\u001b[39;00m\u001b[38;5;250m \u001b[39m\u001b[38;5;28;01mimport\u001b[39;00m StandardScaler, LabelEncoder\n\u001b[32m      3\u001b[39m silhouette_scores = []\n\u001b[32m----> \u001b[39m\u001b[32m5\u001b[39m \u001b[38;5;28;01mfor\u001b[39;00m k \u001b[38;5;129;01min\u001b[39;00m \u001b[43mcluster_range\u001b[49m:\n\u001b[32m      6\u001b[39m     kmeans = KMeans(n_clusters=k, random_state=\u001b[32m42\u001b[39m, n_init=\u001b[32m10\u001b[39m)\n\u001b[32m      7\u001b[39m     cluster_labels = kmeans.fit_predict(X_processed)\n",
      "\u001b[31mNameError\u001b[39m: name 'cluster_range' is not defined"
     ]
    }
   ],
   "source": [
    "# 6. Preprocessing data\n",
    "from sklearn.preprocessing import StandardScaler, LabelEncoder\n",
    "silhouette_scores = []\n",
    "\n",
    "for k in cluster_range:\n",
    "    kmeans = KMeans(n_clusters=k, random_state=42, n_init=10)\n",
    "    cluster_labels = kmeans.fit_predict(X_processed)\n",
    "    score = silhouette_score(X_processed, cluster_labels)\n",
    "    silhouette_scores.append(score)\n",
    "\n",
    "# Visualisasi hasil silhouette score\n",
    "plt.figure(figsize=(8, 5))\n",
    "sns.lineplot(x=list(cluster_range), y=silhouette_scores, marker='o')\n",
    "plt.title('Silhouette Score untuk Setiap Jumlah Cluster')\n",
    "plt.xlabel('Jumlah Cluster (k)')\n",
    "plt.ylabel('Silhouette Score')\n",
    "plt.grid(True)\n",
    "plt.tight_layout()\n",
    "plt.show()\n",
    "\n",
    "# Jumlah cluster terbaik\n",
    "best_k = cluster_range[silhouette_scores.index(max(silhouette_scores))]\n",
    "best_k\n"
   ]
  },
  {
   "cell_type": "code",
   "execution_count": null,
   "id": "67f6e5e6",
   "metadata": {},
   "outputs": [],
   "source": []
  }
 ],
 "metadata": {
  "kernelspec": {
   "display_name": ".venv",
   "language": "python",
   "name": "python3"
  },
  "language_info": {
   "codemirror_mode": {
    "name": "ipython",
    "version": 3
   },
   "file_extension": ".py",
   "mimetype": "text/x-python",
   "name": "python",
   "nbconvert_exporter": "python",
   "pygments_lexer": "ipython3",
   "version": "3.12.5"
  }
 },
 "nbformat": 4,
 "nbformat_minor": 5
}
